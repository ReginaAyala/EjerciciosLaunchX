{
 "cells": [
  {
   "cell_type": "code",
   "execution_count": 7,
   "metadata": {},
   "outputs": [
    {
     "name": "stdout",
     "output_type": "stream",
     "text": [
      "hello venv\n"
     ]
    }
   ],
   "source": [
    "print(\"hello venv\")"
   ]
  },
  {
   "cell_type": "markdown",
   "metadata": {},
   "source": [
    "Prueba "
   ]
  },
  {
   "cell_type": "markdown",
   "metadata": {},
   "source": [
    "<img src=\"https://bl6pap003files.storage.live.com/y4mqwd9siG0AQ1rHg5QZvu1A4MEtYQAhJtHaGdV9XK1HmRVC52JhLvyMXC0PhDA-TBbMDOQEXNj-w_mnVv52wouu72HWRObwH600JAPO6Xr9j_JkkXEN04Ojuz8GDdxx1OFMuklgpsAVCSmLbgkOm02T0-1w7lJHi117bfY7qzF71XNutJIFsRDV0hblZLEW8g3?width=1024&height=324&cropmode=none\" width=\"1024\" height=\"324\" />"
   ]
  }
 ],
 "metadata": {
  "interpreter": {
   "hash": "1f5ed8c02d4d6eb85e87d4814a7ae9f3b246d1eb44e403b46cb296870e15fdb7"
  },
  "kernelspec": {
   "display_name": "Python 3.8.9 ('env': venv)",
   "language": "python",
   "name": "python3"
  },
  "language_info": {
   "codemirror_mode": {
    "name": "ipython",
    "version": 3
   },
   "file_extension": ".py",
   "mimetype": "text/x-python",
   "name": "python",
   "nbconvert_exporter": "python",
   "pygments_lexer": "ipython3",
   "version": "3.8.9"
  },
  "orig_nbformat": 4
 },
 "nbformat": 4,
 "nbformat_minor": 2
}

{
 "cells": [
  {
   "cell_type": "code",
   "execution_count": 3,
   "metadata": {},
   "outputs": [],
   "source": [
    "def informe (tanque1,tanque2,tanque3):\n",
    "    prom = (tanque1 + tanque2 + tanque3 ) / 3\n",
    "    return prom\n"
   ]
  },
  {
   "cell_type": "code",
   "execution_count": 5,
   "metadata": {},
   "outputs": [
    {
     "name": "stdout",
     "output_type": "stream",
     "text": [
      "8.333333333333334\n"
     ]
    }
   ],
   "source": [
    "print(informe(10,9,6))"
   ]
  },
  {
   "cell_type": "code",
   "execution_count": 34,
   "metadata": {},
   "outputs": [],
   "source": [
    "def main_v(valores):\n",
    "    promedio = sum(valores) / len(valores)\n",
    "    return promedio "
   ]
  },
  {
   "cell_type": "code",
   "execution_count": 33,
   "metadata": {},
   "outputs": [
    {
     "data": {
      "text/plain": [
       "9.0"
      ]
     },
     "execution_count": 33,
     "metadata": {},
     "output_type": "execute_result"
    }
   ],
   "source": [
    "main_v([10,8,9])"
   ]
  },
  {
   "cell_type": "code",
   "execution_count": 35,
   "metadata": {},
   "outputs": [],
   "source": [
    "def informe (tanque1,tanque2,tanque3):\n",
    "    prom = (tanque1 + tanque2 + tanque3 ) \n",
    "    return f\"\"\"\n",
    "        El tanque 1 tiene: {tanque1} lts.\n",
    "        El tanque 2 tiene: {tanque2} lts.\n",
    "        El tanque 3 tiene: {tanque3} lts.\n",
    "        El Promedio es : {main_v([tanque1,tanque2,tanque3])} lts.\n",
    "    \"\"\""
   ]
  },
  {
   "cell_type": "code",
   "execution_count": 37,
   "metadata": {},
   "outputs": [
    {
     "name": "stdout",
     "output_type": "stream",
     "text": [
      "\n",
      "        El tanque 1 tiene: 10 lts.\n",
      "        El tanque 2 tiene: 9 lts.\n",
      "        El tanque 3 tiene: 8 lts.\n",
      "        El Promedio es : 9.0 lts.\n",
      "    \n"
     ]
    }
   ],
   "source": [
    "print(informe(10,9,8))"
   ]
  },
  {
   "cell_type": "markdown",
   "metadata": {},
   "source": [
    "Ejercicio 2"
   ]
  },
  {
   "cell_type": "code",
   "execution_count": 38,
   "metadata": {},
   "outputs": [],
   "source": [
    "def informe_preciso(h_prelaunch, tiempo_vuelo, destino, tanque_ext, tanque_int):\n",
    "    return f\"\"\"\"\n",
    "    La hora de prelanzamiento es : {h_prelaunch} .\n",
    "    El tiempo de vuelo : {tiempo_vuelo} hrs.\n",
    "    El destino es : {destino}\n",
    "    La capacida del tanque se encuenta a : {tanque_ext} lts.\n",
    "    La capacidad del tanque int se encuentra a : {tanque_int} lts.\n",
    "    \"\"\"\n"
   ]
  },
  {
   "cell_type": "code",
   "execution_count": 39,
   "metadata": {},
   "outputs": [
    {
     "name": "stdout",
     "output_type": "stream",
     "text": [
      "\"\n",
      "    La hora de prelanzamiento es : 10 .\n",
      "    El tiempo de vuelo : 42 hrs.\n",
      "    El destino es : luna112\n",
      "    La capacida del tanque se encuenta a : 20 lts.\n",
      "    La capacidad del tanque int se encuentra a : 40 lts.\n",
      "    \n"
     ]
    }
   ],
   "source": [
    "print(informe_preciso(10,42,'luna112', 20, 40))"
   ]
  },
  {
   "cell_type": "code",
   "execution_count": 42,
   "metadata": {},
   "outputs": [],
   "source": [
    "def informe_preciso( destino,*minutes, **fuel_resevoirs):\n",
    "    return f\"\"\"\"\n",
    "    El tiempo de vuelo : {sum(minutes)} hrs.\n",
    "    El destino es : {destino}\n",
    "    La capacida del tanque se encuenta a : {fuel_resevoirs} lts.\n",
    "    La capacidad del tanque int se encuentra a : {fuel_resevoirs} lts.\n",
    "    \"\"\""
   ]
  },
  {
   "cell_type": "code",
   "execution_count": 43,
   "metadata": {},
   "outputs": [
    {
     "name": "stdout",
     "output_type": "stream",
     "text": [
      "\"\n",
      "    El tiempo de vuelo : 154 hrs.\n",
      "    El destino es : moon\n",
      "    La capacida del tanque se encuenta a : {'externo': 21222, 'inerno': 2000} lts.\n",
      "    La capacidad del tanque int se encuentra a : {'externo': 21222, 'inerno': 2000} lts.\n",
      "    \n"
     ]
    }
   ],
   "source": [
    "print(informe_preciso('moon',10,20,60,32,32,externo = 21222,inerno = 2000))"
   ]
  },
  {
   "cell_type": "code",
   "execution_count": 59,
   "metadata": {},
   "outputs": [],
   "source": [
    "def informe_preciso( destino,*minutes, **fuel_resevoirs):\n",
    "    reporte = f\"\"\"\"\n",
    "    El tiempo de vuelo : {sum(minutes)} hrs.\n",
    "    El destino es : {destino}\n",
    "    \"\"\"\n",
    "    for tanque,litros in fuel_resevoirs.items():\n",
    "        reporte += f\"Los litros para el tanque {tanque} = {litros} lts.\\n\"\n",
    "    return reporte"
   ]
  },
  {
   "cell_type": "code",
   "execution_count": 60,
   "metadata": {},
   "outputs": [
    {
     "data": {
      "text/plain": [
       "'\"\\n    El tiempo de vuelo : 270 hrs.\\n    El destino es : moon\\n    Los litros para el tanque interno = 2000 lts.\\nLos litros para el tanque externo = 3000 lts.\\n'"
      ]
     },
     "execution_count": 60,
     "metadata": {},
     "output_type": "execute_result"
    }
   ],
   "source": [
    "informe_preciso ('moon',10,30,230, interno = 2000, externo = 3000)"
   ]
  }
 ],
 "metadata": {
  "interpreter": {
   "hash": "31f2aee4e71d21fbe5cf8b01ff0e069b9275f58929596ceb00d14d90e3e16cd6"
  },
  "kernelspec": {
   "display_name": "Python 3.8.9 64-bit",
   "language": "python",
   "name": "python3"
  },
  "language_info": {
   "codemirror_mode": {
    "name": "ipython",
    "version": 3
   },
   "file_extension": ".py",
   "mimetype": "text/x-python",
   "name": "python",
   "nbconvert_exporter": "python",
   "pygments_lexer": "ipython3",
   "version": "3.8.9"
  },
  "orig_nbformat": 4
 },
 "nbformat": 4,
 "nbformat_minor": 2
}

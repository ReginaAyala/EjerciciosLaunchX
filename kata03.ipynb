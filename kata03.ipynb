{
 "cells": [
  {
   "cell_type": "markdown",
   "metadata": {},
   "source": [
    "Ejercicio 1"
   ]
  },
  {
   "cell_type": "code",
   "execution_count": 6,
   "metadata": {},
   "outputs": [
    {
     "name": "stdout",
     "output_type": "stream",
     "text": [
      "advertencia\n"
     ]
    }
   ],
   "source": [
    "vel_a = 30\n",
    "if vel_a >= 25:\n",
    "    print(\"advertencia\")\n",
    "else:\n",
    "    print(\"Todo fine\")"
   ]
  },
  {
   "cell_type": "markdown",
   "metadata": {},
   "source": [
    "Ejercicio2"
   ]
  },
  {
   "cell_type": "code",
   "execution_count": 7,
   "metadata": {},
   "outputs": [
    {
     "name": "stdout",
     "output_type": "stream",
     "text": [
      "no se ve el aesteroide\n"
     ]
    }
   ],
   "source": [
    "aste = 19\n",
    "if aste > 20:\n",
    "    print(\"Miren la cola del aesteroide\")\n",
    "elif aste == 20:\n",
    "    print(\"Miren la cola del asteroide\")\n",
    "else:\n",
    "    print(\"no se ve el aesteroide\")"
   ]
  },
  {
   "cell_type": "markdown",
   "metadata": {},
   "source": [
    "Ejercicio3"
   ]
  },
  {
   "cell_type": "code",
   "execution_count": 13,
   "metadata": {},
   "outputs": [
    {
     "name": "stdout",
     "output_type": "stream",
     "text": [
      "Advertencia, catastrofe \n"
     ]
    }
   ],
   "source": [
    "tamaño=30\n",
    "vel = 26\n",
    "\n",
    "if tamaño > 25 and vel > 25 :\n",
    "    print(\"Advertencia, catastrofe \")\n",
    "elif vel >= 20:\n",
    "    print(\"se pude ver su cola\")\n",
    "elif tamaño < 25 :\n",
    "    print(\"Todo bien, no se ve\")\n",
    "else:\n",
    "    print(\"todo bien\") "
   ]
  }
 ],
 "metadata": {
  "interpreter": {
   "hash": "31f2aee4e71d21fbe5cf8b01ff0e069b9275f58929596ceb00d14d90e3e16cd6"
  },
  "kernelspec": {
   "display_name": "Python 3.8.9 64-bit",
   "language": "python",
   "name": "python3"
  },
  "language_info": {
   "codemirror_mode": {
    "name": "ipython",
    "version": 3
   },
   "file_extension": ".py",
   "mimetype": "text/x-python",
   "name": "python",
   "nbconvert_exporter": "python",
   "pygments_lexer": "ipython3",
   "version": "3.8.9"
  },
  "orig_nbformat": 4
 },
 "nbformat": 4,
 "nbformat_minor": 2
}
